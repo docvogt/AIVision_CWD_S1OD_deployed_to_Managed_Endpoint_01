{
  "cells": [
    {
      "cell_type": "code",
      "source": [
        "# This notebook has two cells that support the consumption and testing of the new Managed Endpoint\n",
        "\n",
        "# the new user is required to update/edit both cells to provided: the Endpoint URL, API Primary key, and headers string, \n",
        "# to match the names and specs of the user's inferencing model and new Endpoint\n",
        "\n",
        "# the first cell constructs a single HTTP REST POST Request using a remotely-stored image URL and sends it too the Endpoint who inferences it, \n",
        "# and returns a JSON dictionary with the bounding box(es), probability(s), and category(s) of any objects their model identifies within the image.  \n",
        "\n",
        "# the second cell repeats these same steps, but wraps them inside a simple python looping action to repeat them in volume and provide a modest load test for the new Endpoint\n",
        "\n",
        "\n",
        "# both cells output to the terminal window/log, and return a parseable JSON dict to the requesting service\n",
        "\n",
        "# in a future improvement - it would be a good idea to pass in Probability Threshold in as a header key:value pair... so at run time the app developer can alter this...\n"
      ],
      "outputs": [],
      "execution_count": null,
      "metadata": {
        "jupyter": {
          "source_hidden": false,
          "outputs_hidden": false
        },
        "nteract": {
          "transient": {
            "deleting": false
          }
        }
      }
    },
    {
      "cell_type": "code",
      "source": [
        "# 2024Feb18 Later update for publication, new rg and new AML resource, new AML Workspace, new Notebook repo for demo Endpoint 021cw hosting CWD OD model.\n",
        "\n",
        "import urllib.request\n",
        "import json\n",
        "import os\n",
        "import ssl\n",
        "\n",
        "def allowSelfSignedHttps(allowed):\n",
        "    # bypass the server certificate verification on client side\n",
        "    if allowed and not os.environ.get('PYTHONHTTPSVERIFY', '') and getattr(ssl, '_create_unverified_context', None):\n",
        "        ssl._create_default_https_context = ssl._create_unverified_context\n",
        "\n",
        "allowSelfSignedHttps(True) # this line is needed if you use self-signed certificate in your scoring service.\n",
        "\n",
        "# Request data goes here\n",
        "# The example below assumes JSON formatting which may be updated\n",
        "# depending on the format your endpoint expects.\n",
        "# More information can be found here:\n",
        "# https://docs.microsoft.com/azure/machine-learning/how-to-deploy-advanced-entry-script\n",
        "\n",
        "# image_url = \"https://asatestimages01.blob.core.windows.net/container-testimages/DEER_CWD_imagery/Cropped_IC_Model/DeerDayHealthyCandidates/TestImageBlob.jpg\" \n",
        "\n",
        "# or choose one from the image test files below\n",
        "\n",
        "# image_url = \"https://asatestimages01.blob.core.windows.net/container-testimages/DEER_CWD_imagery/Mixed_Deer_Images_for_Testing/UnHealthySSWI000000012444874A.jpg\" \n",
        "# image_url = \"https://asatestimages01.blob.core.windows.net/container-testimages/DEER_CWD_imagery/Mixed_Deer_Images_for_Testing/UnHealthySSWI000000012733278A.jpg\" \n",
        "# image_url = \"https://asatestimages01.blob.core.windows.net/container-testimages/DEER_CWD_imagery/Mixed_Deer_Images_for_Testing/UnHealthySSWI000000012931348B.jpg\" \n",
        "image_url = \"https://asatestimages01.blob.core.windows.net/container-testimages/DEER_CWD_imagery/Mixed_Deer_Images_for_Testing/UnHealthySSWI000000013042672A.jpg\" \n",
        "# image_url = \"https://asatestimages01.blob.core.windows.net/container-testimages/DEER_CWD_imagery/Mixed_Deer_Images_for_Testing/UnHealthySSWI000000013486750A.jpg\" \n",
        "# image_url = \"https://asatestimages01.blob.core.windows.net/container-testimages/DEER_CWD_imagery/Mixed_Deer_Images_for_Testing/HealthySSWI000000016989655A.jpg\" \n",
        "# image_url = \"https://asatestimages01.blob.core.windows.net/container-testimages/DEER_CWD_imagery/Mixed_Deer_Images_for_Testing/HealthySSWI000000017061751A.jpg\" \n",
        "# image_url = \"https://asatestimages01.blob.core.windows.net/container-testimages/DEER_CWD_imagery/Mixed_Deer_Images_for_Testing/HealthySSWI000000017167085C.jpg\" \n",
        "# image_url = \"https://asatestimages01.blob.core.windows.net/container-testimages/DEER_CWD_imagery/Mixed_Deer_Images_for_Testing/HealthySSWI000000016685494B.jpg\" \n",
        "# image_url = \"https://asatestimages01.blob.core.windows.net/container-testimages/DEER_CWD_imagery/Mixed_Deer_Images_for_Testing/HealthySSWI000000016182548A.jpg\" \n",
        "\n",
        "# Label Data Legend\n",
        "# 0 deer-day-healthy      # if model returns 0 --> HEALTHY Deer,     1 --> UNHealthy Deer\n",
        "# 1 deer-day-unhealthy\n",
        "# above labels are from labels.txt, Note - Line numbers 1 and 2 map to read-in Index numbers 0 and 1\n",
        "\n",
        "\n",
        "urlData = {\n",
        "    \"image_url\": image_url\n",
        "}\n",
        "\n",
        "body = str.encode(json.dumps(urlData))\n",
        "\n",
        "\n",
        "#-----------------------------------------\n",
        "# this section contains the params the user needs to update for any new Endpoint hosting this Chronic Wasting Disease (CWD) .ONNX model\n",
        "\n",
        "url = 'https://aml-aivision-02-021cw.northcentralus.inference.ml.azure.com/score'  # NAR AML demo resource\n",
        "\n",
        "# Replace this with the primary/secondary key or AMLToken for the endpoint\n",
        "api_key = 'RhVWhz4WsNzADQJYdWQLTpE00vJWtkJh'  # NAR demo resource api key\n",
        "if not api_key:\n",
        "    raise Exception(\"A key should be provided to invoke the endpoint\")\n",
        "\n",
        "# The azureml-model-deployment header will force the request to go to a specific deployment.\n",
        "# Remove this header to have the request observe the endpoint traffic rules\n",
        "headers = {'Content-Type':'application/json', 'Authorization':('Bearer '+ api_key), 'azureml-model-deployment': 'cwdodonnxmodelfromotherframew-1' , 'detThresh': '0.20'} # NAR Deployment demo\n",
        "#-----------------------------------------\n",
        "\n",
        "req = urllib.request.Request(url, body, headers)\n",
        "\n",
        "try:\n",
        "    response = urllib.request.urlopen(req)\n",
        "    print(\"response is type: \", type(response))\n",
        "\n",
        "    result = response.read()\n",
        "    print(\"result is type: \", type(result))\n",
        "\n",
        "    dictResult = json.loads(json.loads(result)) # yes, this needed to be nested twice...\n",
        "    print(\"dictResult is type: \", type(dictResult))\n",
        "    print(\"dictResult = \", dictResult)\n",
        "    # at this stage, dictResult contained a valid correct json dictionary - ready to go into other code...\n",
        "\n",
        "except urllib.error.HTTPError as error:\n",
        "    print(\"The request failed with status code: \" + str(error.code))\n",
        "\n",
        "    # Print the headers - they include the requert ID and the timestamp, which are useful for debugging the failure\n",
        "    print(error.info())\n",
        "    print(error.read().decode(\"utf8\", 'ignore'))\n"
      ],
      "outputs": [
        {
          "output_type": "stream",
          "name": "stdout",
          "text": "response is type:  <class 'http.client.HTTPResponse'>\nresult is type:  <class 'bytes'>\ndictResult is type:  <class 'dict'>\ndictResult =  {'detected_boxes': [0.5344937443733215, 0.6151592135429382, 0.7772806286811829, 0.9887133240699768, 0.0015653371810913086, 0.4758493900299072, 0.656927227973938, 0.9640614986419678, -0.00420689582824707, 0.08173990249633789, 0.902786374092102, 0.8089191913604736, 0.03439095616340637, 0.135395348072052, 0.5588785409927368, 0.7592920660972595], 'detected_classes': [1, 0, 0, 1], 'detected_scores': [0.9815239906311035, 0.14228025078773499, 0.08871999382972717, 0.011512607336044312]}\n"
        }
      ],
      "execution_count": 1,
      "metadata": {
        "gather": {
          "logged": 1708392084970
        }
      }
    },
    {
      "cell_type": "markdown",
      "source": [
        "\n",
        "\n",
        "\n",
        "\n",
        "\n"
      ],
      "metadata": {}
    },
    {
      "cell_type": "code",
      "source": [
        "# 2024Feb18 Later update for publication, new rg and new AML resource, new AML Workspace, new Notebook repo for demo Endpoint 021cw hosting CWD OD model.\n",
        "\n",
        "import urllib.request\n",
        "import json\n",
        "import os\n",
        "import ssl\n",
        "\n",
        "def allowSelfSignedHttps(allowed):\n",
        "    # bypass the server certificate verification on client side\n",
        "    if allowed and not os.environ.get('PYTHONHTTPSVERIFY', '') and getattr(ssl, '_create_unverified_context', None):\n",
        "        ssl._create_default_https_context = ssl._create_unverified_context\n",
        "\n",
        "allowSelfSignedHttps(True) # this line is needed if you use self-signed certificate in your scoring service.\n",
        "\n",
        "# Request data goes here\n",
        "# The example below assumes JSON formatting which may be updated\n",
        "# depending on the format your endpoint expects.\n",
        "# More information can be found here:\n",
        "# https://docs.microsoft.com/azure/machine-learning/how-to-deploy-advanced-entry-script\n",
        "\n",
        "# image_url = \"https://asatestimages01.blob.core.windows.net/container-testimages/DEER_CWD_imagery/Cropped_IC_Model/DeerDayHealthyCandidates/TestImageBlob.jpg\" # NAR demo image\n",
        "\n",
        "# or choose one from the image test files below\n",
        "\n",
        "# image_url = \"https://asatestimages01.blob.core.windows.net/container-testimages/DEER_CWD_imagery/Mixed_Deer_Images_for_Testing/UnHealthySSWI000000012444874A.jpg\" \n",
        "# image_url = \"https://asatestimages01.blob.core.windows.net/container-testimages/DEER_CWD_imagery/Mixed_Deer_Images_for_Testing/UnHealthySSWI000000012733278A.jpg\" \n",
        "# image_url = \"https://asatestimages01.blob.core.windows.net/container-testimages/DEER_CWD_imagery/Mixed_Deer_Images_for_Testing/UnHealthySSWI000000012931348B.jpg\" \n",
        "# image_url = \"https://asatestimages01.blob.core.windows.net/container-testimages/DEER_CWD_imagery/Mixed_Deer_Images_for_Testing/UnHealthySSWI000000013042672A.jpg\" \n",
        "# image_url = \"https://asatestimages01.blob.core.windows.net/container-testimages/DEER_CWD_imagery/Mixed_Deer_Images_for_Testing/UnHealthySSWI000000013486750A.jpg\" \n",
        "# image_url = \"https://asatestimages01.blob.core.windows.net/container-testimages/DEER_CWD_imagery/Mixed_Deer_Images_for_Testing/HealthySSWI000000016989655A.jpg\" \n",
        "image_url = \"https://asatestimages01.blob.core.windows.net/container-testimages/DEER_CWD_imagery/Mixed_Deer_Images_for_Testing/HealthySSWI000000017061751A.jpg\" \n",
        "# image_url = \"https://asatestimages01.blob.core.windows.net/container-testimages/DEER_CWD_imagery/Mixed_Deer_Images_for_Testing/HealthySSWI000000017167085C.jpg\" \n",
        "# image_url = \"https://asatestimages01.blob.core.windows.net/container-testimages/DEER_CWD_imagery/Mixed_Deer_Images_for_Testing/HealthySSWI000000016685494B.jpg\" \n",
        "# image_url = \"https://asatestimages01.blob.core.windows.net/container-testimages/DEER_CWD_imagery/Mixed_Deer_Images_for_Testing/HealthySSWI000000016182548A.jpg\" \n",
        "\n",
        "# Label Data Legend\n",
        "# 0 deer-day-healthy      # if model returns 0 --> HEALTHY Deer,     1 --> UNHealthy Deer\n",
        "# 1 deer-day-unhealthy\n",
        "# above labels are from labels.txt, Note - Line numbers 1 and 2 map to read-in Index numbers 0 and 1\n",
        "\n",
        "urlData = {\n",
        "    \"image_url\": image_url\n",
        "}\n",
        "\n",
        "body = str.encode(json.dumps(urlData))\n",
        "\n",
        "#-----------------------------------------------------------------------------------------------------------------------\n",
        "# this section contains the params the user needs to update for any new Endpoint hosting this Chronic Wasting Disease (CWD) .ONNX model\n",
        "\n",
        "url = 'https://aml-aivision-02-021cw.northcentralus.inference.ml.azure.com/score'  # NAR AML demo resource\n",
        "\n",
        "# Replace this with the primary/secondary key or AMLToken for the endpoint\n",
        "api_key = 'RhVWhz4WsNzADQJYdWQLTpE00vJWtkJh'  # NAR demo resource api key\n",
        "if not api_key:\n",
        "    raise Exception(\"A key should be provided to invoke the endpoint\")\n",
        "\n",
        "# The azureml-model-deployment header will force the request to go to a specific deployment.\n",
        "# Remove this header to have the request observe the endpoint traffic rules\n",
        "headers = {'Content-Type':'application/json', 'Authorization':('Bearer '+ api_key), 'azureml-model-deployment': 'cwdodonnxmodelfromotherframew-1' , 'detThresh': '0.20'} # NAR Deployment demo\n",
        "#------------------------------------------------------------------------------------------------------------------------\n",
        "\n",
        "req = urllib.request.Request(url, body, headers)\n",
        "\n",
        "# -------- everything ABOVE this line is setting up the POST request -------------\n",
        "\n",
        "for i in range(2500):\n",
        "\n",
        "    try:\n",
        "        response = urllib.request.urlopen(req)\n",
        "        print(\"response is type: \", type(response))\n",
        "\n",
        "        result = response.read()\n",
        "        print(\"result is type: \", type(result))\n",
        "\n",
        "        dictResult = json.loads(json.loads(result)) # yes, this needed to be nested twice...\n",
        "        print(\"dictResult is type: \", type(dictResult))\n",
        "        print(\"dictResult = \", dictResult)\n",
        "        # at this stage, dictResult contained a valid correct json dictionary - ready to go into other code...\n",
        "        print(\"iteration i = \", i)\n",
        "\n",
        "    except urllib.error.HTTPError as error:\n",
        "        print(\"The request failed with status code: \" + str(error.code))\n",
        "\n",
        "        # Print the headers - they include the requert ID and the timestamp, which are useful for debugging the failure\n",
        "        print(error.info())\n",
        "        print(error.read().decode(\"utf8\", 'ignore'))\n"
      ],
      "outputs": [],
      "execution_count": null,
      "metadata": {
        "gather": {
          "logged": 1708372685048
        }
      }
    }
  ],
  "metadata": {
    "kernel_info": {
      "name": "python310-sdkv2"
    },
    "kernelspec": {
      "name": "python310-sdkv2",
      "language": "python",
      "display_name": "Python 3.10 - SDK v2"
    },
    "microsoft": {
      "host": {
        "AzureML": {
          "notebookHasBeenCompleted": true
        }
      },
      "ms_spell_check": {
        "ms_spell_check_language": "en"
      }
    },
    "nteract": {
      "version": "nteract-front-end@1.0.0"
    },
    "language_info": {
      "name": "python",
      "version": "3.10.11",
      "mimetype": "text/x-python",
      "codemirror_mode": {
        "name": "ipython",
        "version": 3
      },
      "pygments_lexer": "ipython3",
      "nbconvert_exporter": "python",
      "file_extension": ".py"
    }
  },
  "nbformat": 4,
  "nbformat_minor": 2
}