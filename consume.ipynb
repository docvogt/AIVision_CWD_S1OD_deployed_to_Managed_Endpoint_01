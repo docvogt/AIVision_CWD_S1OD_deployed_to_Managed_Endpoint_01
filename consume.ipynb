{
  "cells": [
    {
      "cell_type": "code",
      "source": [
        "# things that dont change - source for copy-pasting to update new consume cell each iteration...\n",
        "# this is a spin-off of mikestestingnotebook.ipynb...   tailored for the Managed Endpoint Deployments using the CWD ONNX model\n",
        "# compute\n",
        "# compute-ds11v2-aivision\n",
        "\n",
        "# kernel\n",
        "# Python 3.10 - SDK v2\n",
        "\n",
        "\n",
        "data = list({\"./TestImage.jpg\"}) # <-- THIS creates a LIST from the set, and that list IS json serializable....  should be a correction in run time no rebuild...\n",
        "\n",
        "# data = list({\"https://asatestimages01.blob.core.windows.net/\" \\\n",
        "# \"container-testimages/DEER_CWD_imagery/Cropped_IC_Model/DeerDayHealthyCandidates/TestImageBlob.jpg\"}) \n",
        "# # THIS creates a LIST from the set, and that list IS json serializable....  should be a correction in run time no rebuild...\n",
        "# print(\"data = \", data) # this helps debug by printing data so we can see full URL...\n",
        "\n",
        "\n",
        "# MIKE MAKING ERROR HERE...   data should be a key: value pair...   \n",
        "image_url = \"https://asatestimages01.blob.core.windows.net/\" \\\n",
        "\"container-testimages/DEER_CWD_imagery/Cropped_IC_Model/DeerDayHealthyCandidates/TestImageBlob.jpg\" \n",
        "\n",
        "urlData = {\n",
        "    \"image_url\": image_url\n",
        "}\n",
        "\n",
        "# body = str.encode(json.dumps(data))\n",
        "body = str.encode(json.dumps(urlData))\n",
        "\n",
        "\n",
        "\n"
      ],
      "outputs": [],
      "execution_count": null,
      "metadata": {
        "jupyter": {
          "source_hidden": false,
          "outputs_hidden": false
        },
        "nteract": {
          "transient": {
            "deleting": false
          }
        }
      }
    },
    {
      "cell_type": "code",
      "source": [
        "# 2023Nov20 mcvogt\n",
        "# this has been tested and is fully functional to send a test image stored in Azure Storage Account, to and Azure Managed Endpoint hosting an exported \n",
        "# Azure Custom Vision model\n",
        "\n",
        "import urllib.request\n",
        "import json\n",
        "import os\n",
        "import ssl\n",
        "\n",
        "def allowSelfSignedHttps(allowed):\n",
        "    # bypass the server certificate verification on client side\n",
        "    if allowed and not os.environ.get('PYTHONHTTPSVERIFY', '') and getattr(ssl, '_create_unverified_context', None):\n",
        "        ssl._create_default_https_context = ssl._create_unverified_context\n",
        "\n",
        "allowSelfSignedHttps(True) # this line is needed if you use self-signed certificate in your scoring service.\n",
        "\n",
        "# LIST of co-located test images, available for one-off and small-batch testing... \n",
        "image_url = \"https://asatestimages01.blob.core.windows.net/container-testimages/DEER_CWD_imagery/Cropped_IC_Model/DeerDayHealthyCandidates/TestImageBlob.jpg\" \n",
        "\n",
        "urlData = {\n",
        "    \"image_url\": image_url\n",
        "}\n",
        "body = str.encode(json.dumps(urlData))\n",
        "\n",
        "url = 'https://aivisionexperiment01-url021c2.northcentralus.inference.ml.azure.com/score'\n",
        "\n",
        "api_key = 'g7jfXX9VjePlk3eaenh1whtGgysX31Z1'\n",
        "\n",
        "if not api_key:\n",
        "    raise Exception(\"A key should be provided to invoke the endpoint\")\n",
        "\n",
        "headers = {'Content-Type':'application/json', 'Authorization':('Bearer '+ api_key), 'azureml-model-deployment': 'mikecwdodonnxmodelfromotherfr-1' , 'detThresh': '0.10'}\n",
        "# headers = {'Content-Type':'application/json', 'Authorization':('Bearer '+ api_key), 'azureml-model-deployment': 'mikecwdodonnxmodelfromotherfr-1' }\n",
        "# MIKE - this calling structure appears to be friendly to additiona key: value pairs injected into 'heders' and pulled out on the score.py recieving end\n",
        "# to dynamically set the display Proabability Threshold w each call of score.py's run().  work that shit out if asked...\n",
        "# clearly mike can introduce this IF he uses ascii text ('0.10') to send a numerical value (0.10) (convert string to float over in receiving score.py )\n",
        "\n",
        "req = urllib.request.Request(url, body, headers)\n",
        "\n",
        "try:\n",
        "    response = urllib.request.urlopen(req)\n",
        "    result = response.read()\n",
        "    print(result)\n",
        "except urllib.error.HTTPError as error:\n",
        "    print(\"The request failed with status code: \" + str(error.code))\n",
        "    print(error.info())\n",
        "    print(error.read().decode(\"utf8\", 'ignore'))\n",
        "\n",
        "# ---------------------------------- end of code --------------------------------------\n",
        "\n",
        "\n",
        "\n"
      ],
      "outputs": [
        {
          "output_type": "stream",
          "name": "stdout",
          "text": "b'\"{\\\\\"detected_boxes\\\\\": [0.026675760746002197, 0.04183569550514221, 0.8069154620170593, 0.814767599105835], \\\\\"detected_classes\\\\\": [0], \\\\\"detected_scores\\\\\": [0.018364280462265015]}\"'\n"
        }
      ],
      "execution_count": 10,
      "metadata": {
        "gather": {
          "logged": 1700520709180
        }
      }
    },
    {
      "cell_type": "markdown",
      "source": [
        "# MIKE - it would be a good idea to pass in Probability Threshold in as a header key:value pair... so at run time the app developer can alter this...  \n"
      ],
      "metadata": {
        "nteract": {
          "transient": {
            "deleting": false
          }
        }
      }
    },
    {
      "cell_type": "code",
      "source": [
        "# this is mikes cell for processing multiple images... \n",
        "\n",
        "# 2023Nov20 mcvogt\n",
        "# this has been tested and is fully functional to send a test image stored in Azure Storage Account, to and Azure Managed Endpoint hosting an exported \n",
        "# Azure Custom Vision model\n",
        "\n",
        "import urllib.request\n",
        "import json\n",
        "import os\n",
        "import ssl\n",
        "\n",
        "def allowSelfSignedHttps(allowed):\n",
        "    # bypass the server certificate verification on client side\n",
        "    if allowed and not os.environ.get('PYTHONHTTPSVERIFY', '') and getattr(ssl, '_create_unverified_context', None):\n",
        "        ssl._create_default_https_context = ssl._create_unverified_context\n",
        "\n",
        "allowSelfSignedHttps(True) # this line is needed if you use self-signed certificate in your scoring service.\n",
        "\n",
        "# LIST of co-located test images, available for one-off and small-batch testing... \n",
        "# image_url = \"https://asatestimages01.blob.core.windows.net/container-testimages/DEER_CWD_imagery/Cropped_IC_Model/DeerDayHealthyCandidates/TestImageBlob.jpg\" \n",
        "\n",
        "\n",
        "image_host = \"https://asatestimages01.blob.core.windows.net/\"\n",
        "image_container = \"container-testimages/DEER_CWD_imagery/Mixed_Deer_Images_for_Testing/\"\n",
        "\n",
        "image_file_set = {\n",
        "\"UnHealthySSWI000000012444874A.jpg\", \n",
        "\"UnHealthySSWI000000012733278A.jpg\", \n",
        "\"UnHealthySSWI000000012931348B.jpg\", \n",
        "\"UnHealthySSWI000000013042672A.jpg\", \n",
        "\"UnHealthySSWI000000013486750A.jpg\",\n",
        "\"HealthySSWI000000016989655A.jpg\", \n",
        "\"HealthySSWI000000017061751A.jpg\", \n",
        "\"HealthySSWI000000017167085C.jpg\", \n",
        "\"HealthySSWI000000016685494B.jpg\", \n",
        "\"HealthySSWI000000016182548A.jpg\"\n",
        "}\n",
        "\n",
        "print(\"\\nFull Elements of image_file_set: \")\n",
        "for i in image_file_set:\n",
        "        image_url = (image_host + image_container + i)\n",
        "        print(\"\\n\")\n",
        "        print(image_url)\n",
        "        # NOTE - all rest of constructing POST request remains identical except indented 1 more level to be subordinate to 'for i' loop... \n",
        "        urlData = {\n",
        "            \"image_url\": image_url\n",
        "        }\n",
        "        body = str.encode(json.dumps(urlData))\n",
        "\n",
        "        url = 'https://aivisionexperiment01-url021c2.northcentralus.inference.ml.azure.com/score'\n",
        "\n",
        "        api_key = 'g7jfXX9VjePlk3eaenh1whtGgysX31Z1'\n",
        "\n",
        "        if not api_key:\n",
        "            raise Exception(\"A key should be provided to invoke the endpoint\")\n",
        "\n",
        "        headers = {'Content-Type':'application/json', 'Authorization':('Bearer '+ api_key), 'azureml-model-deployment': 'mikecwdodonnxmodelfromotherfr-1' }\n",
        "\n",
        "        req = urllib.request.Request(url, body, headers)\n",
        "\n",
        "        try:\n",
        "            response = urllib.request.urlopen(req)\n",
        "            result = response.read()\n",
        "            print(result)\n",
        "        except urllib.error.HTTPError as error:\n",
        "            print(\"The request failed with status code: \" + str(error.code))\n",
        "            print(error.info())\n",
        "            print(error.read().decode(\"utf8\", 'ignore'))\n",
        "\n",
        "# ---------------------------------- end of code --------------------------------------\n",
        "\n",
        "\n",
        "\n"
      ],
      "outputs": [
        {
          "output_type": "stream",
          "name": "stdout",
          "text": "\nFull Elements of image_file_set: \n\n\nhttps://asatestimages01.blob.core.windows.net/container-testimages/DEER_CWD_imagery/Mixed_Deer_Images_for_Testing/UnHealthySSWI000000012444874A.jpg\nb'\"{\\\\\"detected_boxes\\\\\": [0.2706890404224396, 0.5266299247741699, 0.6669864654541016, 0.8851373195648193, 0.0010432451963424683, 0.5401623249053955, 0.30675649642944336, 0.9181697368621826, 0.08526048064231873, 0.49914222955703735, 0.608391284942627, 0.9290570616722107], \\\\\"detected_classes\\\\\": [1, 1, 0], \\\\\"detected_scores\\\\\": [0.999832034111023, 0.10428383946418762, 0.012935787439346313]}\"'\n\n\nhttps://asatestimages01.blob.core.windows.net/container-testimages/DEER_CWD_imagery/Mixed_Deer_Images_for_Testing/HealthySSWI000000017167085C.jpg\nb'\"{\\\\\"detected_boxes\\\\\": [0.50816410779953, 0.2906777858734131, 0.9812902808189392, 0.9853470325469971, 0.17043524980545044, 0.22910627722740173, 0.8411441445350647, 1.0016082525253296], \\\\\"detected_classes\\\\\": [1, 0], \\\\\"detected_scores\\\\\": [0.9520444869995117, 0.04880693554878235]}\"'\n\n\nhttps://asatestimages01.blob.core.windows.net/container-testimages/DEER_CWD_imagery/Mixed_Deer_Images_for_Testing/HealthySSWI000000016182548A.jpg\nb'\"{\\\\\"detected_boxes\\\\\": [0.1089828759431839, 0.7016883492469788, 0.5911055207252502, 1.0020649433135986, 0.14698484539985657, 0.11622560024261475, 0.757839560508728, 0.7762627005577087, 0.05856095254421234, 0.1873285174369812, 0.5303080677986145, 0.80587238073349], \\\\\"detected_classes\\\\\": [1, 0, 0], \\\\\"detected_scores\\\\\": [0.9894078969955444, 0.029606640338897705, 0.012696564197540283]}\"'\n\n\nhttps://asatestimages01.blob.core.windows.net/container-testimages/DEER_CWD_imagery/Mixed_Deer_Images_for_Testing/UnHealthySSWI000000013486750A.jpg\nb'\"{\\\\\"detected_boxes\\\\\": [0.005838602781295776, 0.2728923559188843, 0.47157546877861023, 0.740957498550415, 0.021105706691741943, 0.13032135367393494, 0.993648111820221, 0.9271754026412964, 0.28457319736480713, -0.01093292236328125, 0.6267319917678833, 0.3428652286529541, -0.0033348649740219116, 0.6743243932723999, 0.40444111824035645, 0.9887436628341675, 0.002548009157180786, 0.8533487915992737, 0.35071542859077454, 1.008798599243164, 0.023992151021957397, 0.48276999592781067, 0.9703370332717896, 1.018463134765625], \\\\\"detected_classes\\\\\": [0, 0, 0, 1, 1, 0], \\\\\"detected_scores\\\\\": [0.02111029624938965, 0.01659640669822693, 0.01642182469367981, 0.014987528324127197, 0.01478084921836853, 0.014317035675048828]}\"'\n\n\nhttps://asatestimages01.blob.core.windows.net/container-testimages/DEER_CWD_imagery/Mixed_Deer_Images_for_Testing/HealthySSWI000000016685494B.jpg\nb'\"{\\\\\"detected_boxes\\\\\": [0.3574337661266327, 0.3621615469455719, 0.9663801193237305, 0.9771825075149536, 0.1158587634563446, 0.07704547047615051, 0.980434775352478, 0.9261282682418823, 0.6311042308807373, 0.01859945058822632, 0.8808780908584595, 0.4310438632965088, 0.013114303350448608, 0.027654796838760376, 0.6101692914962769, 0.5163921117782593, 0.3629588186740875, 0.0066592395305633545, 0.9655550718307495, 0.4711553156375885, 0.027351945638656616, 0.29042020440101624, 0.3106245994567871, 0.7288843393325806], \\\\\"detected_classes\\\\\": [0, 0, 0, 1, 1, 0], \\\\\"detected_scores\\\\\": [0.9970643520355225, 0.25340017676353455, 0.028438419103622437, 0.0124053955078125, 0.011863917112350464, 0.01168060302734375]}\"'\n\n\nhttps://asatestimages01.blob.core.windows.net/container-testimages/DEER_CWD_imagery/Mixed_Deer_Images_for_Testing/UnHealthySSWI000000012733278A.jpg\nb'\"{\\\\\"detected_boxes\\\\\": [6.349384784698486e-05, 0.24813520908355713, 0.2616734504699707, 0.8594905138015747, 0.020307958126068115, 0.08164405822753906, 1.0081748962402344, 0.9946683645248413, 0.025480955839157104, 0.27178335189819336, 0.7078784704208374, 0.8115246295928955, 0.15677890181541443, 0.0034254789352416992, 0.985339879989624, 0.5695512294769287], \\\\\"detected_classes\\\\\": [1, 0, 1, 0], \\\\\"detected_scores\\\\\": [0.711523175239563, 0.12106254696846008, 0.024079322814941406, 0.015504002571105957]}\"'\n\n\nhttps://asatestimages01.blob.core.windows.net/container-testimages/DEER_CWD_imagery/Mixed_Deer_Images_for_Testing/HealthySSWI000000016989655A.jpg\nb'\"{\\\\\"detected_boxes\\\\\": [0.5959913730621338, 0.22466757893562317, 0.9724797010421753, 0.5571436882019043, -0.007676504552364349, 0.012254133820533752, 0.22184690833091736, 0.4850526452064514, 0.018677353858947754, 0.15175414085388184, 0.9768415689468384, 0.9819798469543457], \\\\\"detected_classes\\\\\": [0, 1, 0], \\\\\"detected_scores\\\\\": [0.9981118440628052, 0.04154181480407715, 0.02195701003074646]}\"'\n\n\nhttps://asatestimages01.blob.core.windows.net/container-testimages/DEER_CWD_imagery/Mixed_Deer_Images_for_Testing/HealthySSWI000000017061751A.jpg\nb'\"{\\\\\"detected_boxes\\\\\": [0.20242133736610413, 0.5760364532470703, 0.7400529384613037, 1.0031607151031494, 0.05104765295982361, 0.17917120456695557, 0.8347694873809814, 0.886255145072937, 0.011753350496292114, -0.007098734378814697, 0.9115867614746094, 0.5470874905586243], \\\\\"detected_classes\\\\\": [0, 0, 0], \\\\\"detected_scores\\\\\": [0.9482340812683105, 0.0182514488697052, 0.01400497555732727]}\"'\n\n\nhttps://asatestimages01.blob.core.windows.net/container-testimages/DEER_CWD_imagery/Mixed_Deer_Images_for_Testing/UnHealthySSWI000000013042672A.jpg\nb'\"{\\\\\"detected_boxes\\\\\": [0.5344937443733215, 0.6151592135429382, 0.7772806286811829, 0.9887133240699768, 0.0015653371810913086, 0.4758493900299072, 0.656927227973938, 0.9640614986419678, -0.00420689582824707, 0.08173990249633789, 0.902786374092102, 0.8089191913604736, 0.03439095616340637, 0.135395348072052, 0.5588785409927368, 0.7592920660972595], \\\\\"detected_classes\\\\\": [1, 0, 0, 1], \\\\\"detected_scores\\\\\": [0.9815239906311035, 0.14228025078773499, 0.08871999382972717, 0.011512607336044312]}\"'\n\n\nhttps://asatestimages01.blob.core.windows.net/container-testimages/DEER_CWD_imagery/Mixed_Deer_Images_for_Testing/UnHealthySSWI000000012931348B.jpg\nb'\"{\\\\\"detected_boxes\\\\\": [0.047612935304641724, 0.09382900595664978, 0.9798141717910767, 0.9757043123245239], \\\\\"detected_classes\\\\\": [0], \\\\\"detected_scores\\\\\": [0.06405282020568848]}\"'\n"
        }
      ],
      "execution_count": 6,
      "metadata": {
        "jupyter": {
          "source_hidden": false,
          "outputs_hidden": false
        },
        "nteract": {
          "transient": {
            "deleting": false
          }
        },
        "gather": {
          "logged": 1700515629228
        }
      }
    },
    {
      "cell_type": "code",
      "source": [
        "# this is code cell for 021c4 !!!!!!!!!!\n",
        "#021c4 was 021c, reDeployed for Curated ENv pytorch2.0 but only 1 X E4s_v3 SKU.. so should be lowest cost to operate...\n",
        "\n",
        "import urllib.request\n",
        "import json\n",
        "import os\n",
        "import ssl\n",
        "\n",
        "def allowSelfSignedHttps(allowed):\n",
        "    # bypass the server certificate verification on client side\n",
        "    if allowed and not os.environ.get('PYTHONHTTPSVERIFY', '') and getattr(ssl, '_create_unverified_context', None):\n",
        "        ssl._create_default_https_context = ssl._create_unverified_context\n",
        "\n",
        "allowSelfSignedHttps(True) # this line is needed if you use self-signed certificate in your scoring service.\n",
        "\n",
        "image_url = \"https://asatestimages01.blob.core.windows.net/\" \\\n",
        "\"container-testimages/DEER_CWD_imagery/Cropped_IC_Model/DeerDayHealthyCandidates/TestImageBlob.jpg\" \n",
        "\n",
        "urlData = {\n",
        "    \"image_url\": image_url\n",
        "}\n",
        "\n",
        "body = str.encode(json.dumps(urlData))\n",
        "\n",
        "url = 'https://aivisionexperiment01-url021c4.northcentralus.inference.ml.azure.com/score'\n",
        "api_key = 'PXR12Tx4kt5wU7fdIbG933GMkNcwdMed'\n",
        "if not api_key:\n",
        "    raise Exception(\"A key should be provided to invoke the endpoint\")\n",
        "\n",
        "headers = {'Content-Type':'application/json', 'Authorization':('Bearer '+ api_key), 'azureml-model-deployment': 'mikecwdodonnxmodelfromotherfr-1' }\n",
        "\n",
        "req = urllib.request.Request(url, body, headers)\n",
        "\n",
        "try:\n",
        "    response = urllib.request.urlopen(req)\n",
        "    result = response.read()\n",
        "    print(result)\n",
        "except urllib.error.HTTPError as error:\n",
        "    print(\"The request failed with status code: \" + str(error.code))\n",
        "    print(error.info())\n",
        "    print(error.read().decode(\"utf8\", 'ignore'))\n"
      ],
      "outputs": [
        {
          "output_type": "stream",
          "name": "stdout",
          "text": "b'\"{\\\\\"detected_boxes\\\\\": [0.026675760746002197, 0.04183569550514221, 0.8069154620170593, 0.814767599105835], \\\\\"detected_classes\\\\\": [0], \\\\\"detected_scores\\\\\": [0.018364280462265015]}\"'\n"
        }
      ],
      "execution_count": 16,
      "metadata": {
        "jupyter": {
          "source_hidden": false,
          "outputs_hidden": false
        },
        "nteract": {
          "transient": {
            "deleting": false
          }
        },
        "gather": {
          "logged": 1700527965191
        }
      }
    },
    {
      "cell_type": "code",
      "source": [
        "# 2023Nov20 mcvogt\n",
        "# this is code cell for 021c3     uses CurEnv pytorch1.13 + 1 X E4s_v3 SKU\n",
        "import urllib.request\n",
        "import json\n",
        "import os\n",
        "import ssl\n",
        "\n",
        "def allowSelfSignedHttps(allowed):\n",
        "    # bypass the server certificate verification on client side\n",
        "    if allowed and not os.environ.get('PYTHONHTTPSVERIFY', '') and getattr(ssl, '_create_unverified_context', None):\n",
        "        ssl._create_default_https_context = ssl._create_unverified_context\n",
        "\n",
        "allowSelfSignedHttps(True) # this line is needed if you use self-signed certificate in your scoring service.\n",
        "\n",
        "image_url = \"https://asatestimages01.blob.core.windows.net/container-testimages/DEER_CWD_imagery/Cropped_IC_Model/DeerDayHealthyCandidates/TestImageBlob.jpg\" \n",
        "\n",
        "urlData = {\n",
        "    \"image_url\": image_url\n",
        "}\n",
        "\n",
        "body = str.encode(json.dumps(urlData))\n",
        "\n",
        "url = 'https://aivisionexperiment01-url021c3.northcentralus.inference.ml.azure.com/score'\n",
        "# Replace this with the primary/secondary key or AMLToken for the endpoint\n",
        "api_key = '8GsGGBVpod98cjxxXHFeMKyzvElZ4Eaz'\n",
        "if not api_key:\n",
        "    raise Exception(\"A key should be provided to invoke the endpoint\")\n",
        "\n",
        "# The azureml-model-deployment header will force the request to go to a specific deployment.\n",
        "# Remove this header to have the request observe the endpoint traffic rules\n",
        "headers = {'Content-Type':'application/json', 'Authorization':('Bearer '+ api_key), 'azureml-model-deployment': 'mikecwdodonnxmodelfromotherfr-1' }\n",
        "\n",
        "req = urllib.request.Request(url, body, headers)\n",
        "\n",
        "try:\n",
        "    response = urllib.request.urlopen(req)\n",
        "\n",
        "    result = response.read()\n",
        "    print(result)\n",
        "except urllib.error.HTTPError as error:\n",
        "    print(\"The request failed with status code: \" + str(error.code))\n",
        "\n",
        "    # Print the headers - they include the requert ID and the timestamp, which are useful for debugging the failure\n",
        "    print(error.info())\n",
        "    print(error.read().decode(\"utf8\", 'ignore'))\n"
      ],
      "outputs": [
        {
          "output_type": "stream",
          "name": "stdout",
          "text": "b'\"{\\\\\"detected_boxes\\\\\": [0.026675760746002197, 0.04183569550514221, 0.8069154620170593, 0.814767599105835], \\\\\"detected_classes\\\\\": [0], \\\\\"detected_scores\\\\\": [0.018364280462265015]}\"'\n"
        }
      ],
      "execution_count": 22,
      "metadata": {
        "jupyter": {
          "source_hidden": false,
          "outputs_hidden": false
        },
        "nteract": {
          "transient": {
            "deleting": false
          }
        },
        "gather": {
          "logged": 1700531791947
        }
      }
    }
  ],
  "metadata": {
    "kernelspec": {
      "name": "python310-sdkv2",
      "language": "python",
      "display_name": "Python 3.10 - SDK v2"
    },
    "language_info": {
      "name": "python",
      "version": "3.10.11",
      "mimetype": "text/x-python",
      "codemirror_mode": {
        "name": "ipython",
        "version": 3
      },
      "pygments_lexer": "ipython3",
      "nbconvert_exporter": "python",
      "file_extension": ".py"
    },
    "microsoft": {
      "ms_spell_check": {
        "ms_spell_check_language": "en"
      },
      "host": {
        "AzureML": {
          "notebookHasBeenCompleted": true
        }
      }
    },
    "kernel_info": {
      "name": "python310-sdkv2"
    },
    "nteract": {
      "version": "nteract-front-end@1.0.0"
    }
  },
  "nbformat": 4,
  "nbformat_minor": 2
}